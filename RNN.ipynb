{
 "cells": [
  {
   "cell_type": "markdown",
   "metadata": {
    "id": "8vUVuhKSitIg"
   },
   "source": [
    "**Overview**\n",
    "\n",
    "This dataset contains movie reviews along with their associated binary\n",
    "sentiment polarity labels. It is intended to serve as a benchmark for\n",
    "sentiment classification. This document outlines how the dataset was\n",
    "gathered, and how to use the files provided. \n",
    "\n",
    "**Dataset** \n",
    "\n",
    "The core dataset contains 50,000 reviews split evenly into 25k train\n",
    "and 25k test sets. The overall distribution of labels is balanced (25k\n",
    "pos and 25k neg). We also include an additional 50,000 unlabeled\n",
    "documents for unsupervised learning. \n",
    "\n",
    "In the entire collection, no more than 30 reviews are allowed for any\n",
    "given movie because reviews for the same movie tend to have correlated\n",
    "ratings. Further, the train and test sets contain a disjoint set of\n",
    "movies, so no significant performance is obtained by memorizing\n",
    "movie-unique terms and their associated with observed labels.  In the\n",
    "labeled train/test sets, a negative review has a score <= 4 out of 10,\n",
    "and a positive review has a score >= 7 out of 10. Thus reviews with\n",
    "more neutral ratings are not included in the train/test sets. In the\n",
    "unsupervised set, reviews of any rating are included and there are an\n",
    "even number of reviews > 5 and <= 5.\n",
    "\n",
    "**Text Classification using RNN**\n",
    "\n",
    "We are using the IMDB large movie review dataset from the tenserflow dataset.It is a binary classification dataset—all the reviews have either a positive(1) or negative(0) sentiment."
   ]
  },
  {
   "cell_type": "markdown",
   "metadata": {
    "id": "dO44Pf-9gzV0"
   },
   "source": [
    "### Importing all the necessary libraries and packages"
   ]
  },
  {
   "cell_type": "code",
   "execution_count": null,
   "metadata": {
    "id": "7HQJWq6Sc8nY"
   },
   "outputs": [],
   "source": [
    "import numpy as np\n",
    "\n",
    "import tensorflow_datasets as tfds\n",
    "import tensorflow as tf\n",
    "\n",
    "tfds.disable_progress_bar()"
   ]
  },
  {
   "cell_type": "markdown",
   "metadata": {
    "id": "nez8TBVj0vWt"
   },
   "source": [
    "## Setup input pipeline"
   ]
  },
  {
   "cell_type": "markdown",
   "metadata": {
    "id": "I0U4MV9ohKZN"
   },
   "source": [
    "### Loading the in-built IMDB Movie Dataset from the tensorflow library"
   ]
  },
  {
   "cell_type": "code",
   "execution_count": null,
   "metadata": {
    "id": "XHGkUefMdoqs"
   },
   "outputs": [],
   "source": [
    "movie_dataset, info = tfds.load('imdb_reviews', with_info=True,\n",
    "                          as_supervised=True)"
   ]
  },
  {
   "cell_type": "code",
   "execution_count": null,
   "metadata": {
    "colab": {
     "base_uri": "https://localhost:8080/"
    },
    "id": "ODI8TYVZjJx8",
    "outputId": "97627d3b-3627-4710-be01-bb6db5e691c9"
   },
   "outputs": [
    {
     "data": {
      "text/plain": [
       "{'train': <PrefetchDataset element_spec=(TensorSpec(shape=(), dtype=tf.string, name=None), TensorSpec(shape=(), dtype=tf.int64, name=None))>,\n",
       " 'test': <PrefetchDataset element_spec=(TensorSpec(shape=(), dtype=tf.string, name=None), TensorSpec(shape=(), dtype=tf.int64, name=None))>,\n",
       " 'unsupervised': <PrefetchDataset element_spec=(TensorSpec(shape=(), dtype=tf.string, name=None), TensorSpec(shape=(), dtype=tf.int64, name=None))>}"
      ]
     },
     "execution_count": 35,
     "metadata": {},
     "output_type": "execute_result"
    }
   ],
   "source": [
    "movie_dataset"
   ]
  },
  {
   "cell_type": "markdown",
   "metadata": {
    "id": "IzYxdDrnhcBZ"
   },
   "source": [
    "### Splitting the dataset into train and test"
   ]
  },
  {
   "cell_type": "code",
   "execution_count": null,
   "metadata": {
    "id": "5HSwuE3Idvgl"
   },
   "outputs": [],
   "source": [
    "train_movie_dataset = movie_dataset['train']\n",
    "test_movie_dataset  = movie_dataset['test']\n"
   ]
  },
  {
   "cell_type": "markdown",
   "metadata": {
    "id": "yYQoHMOniSEJ"
   },
   "source": [
    "### Checking the type specification of an element of this dataset."
   ]
  },
  {
   "cell_type": "code",
   "execution_count": null,
   "metadata": {
    "colab": {
     "base_uri": "https://localhost:8080/"
    },
    "id": "seyW6DG9eEbM",
    "outputId": "01eb6195-1be0-47aa-ea14-d65c60ed51a6"
   },
   "outputs": [
    {
     "data": {
      "text/plain": [
       "(TensorSpec(shape=(), dtype=tf.string, name=None),\n",
       " TensorSpec(shape=(), dtype=tf.int64, name=None))"
      ]
     },
     "execution_count": 37,
     "metadata": {},
     "output_type": "execute_result"
    }
   ],
   "source": [
    "train_movie_dataset.element_spec"
   ]
  },
  {
   "cell_type": "markdown",
   "metadata": {
    "id": "dBBsf2tdi__L"
   },
   "source": [
    "### Displaying the first record in training set.\n",
    "### Here, label can be 0:Positive or 1:Negative"
   ]
  },
  {
   "cell_type": "code",
   "execution_count": null,
   "metadata": {
    "colab": {
     "base_uri": "https://localhost:8080/"
    },
    "id": "YE8b_waueGw_",
    "outputId": "7ae41b80-7b7f-4b64-8115-b9cfdc040487"
   },
   "outputs": [
    {
     "name": "stdout",
     "output_type": "stream",
     "text": [
      "text:  b\"This was an absolutely terrible movie. Don't be lured in by Christopher Walken or Michael Ironside. Both are great actors, but this must simply be their worst role in history. Even their great acting could not redeem this movie's ridiculous storyline. This movie is an early nineties US propaganda piece. The most pathetic scenes were those when the Columbian rebels were making their cases for revolutions. Maria Conchita Alonso appeared phony, and her pseudo-love affair with Walken was nothing but a pathetic emotional plug in a movie that was devoid of any real meaning. I am disappointed that there are movies like this, ruining actor's like Christopher Walken's good name. I could barely sit through it.\"\n",
      "label:  0\n"
     ]
    }
   ],
   "source": [
    "for example, label in train_movie_dataset.take(1):\n",
    "  print('text: ', example.numpy())\n",
    "  print('label: ', label.numpy())"
   ]
  },
  {
   "cell_type": "markdown",
   "metadata": {
    "id": "DbG4h7832ztr"
   },
   "source": [
    "The BUFFER_SIZE define a random first element between the size of BUFFER_SIZE. After choose this random one, the next numbers will follow the size of BUFFER_SIZE\n",
    "\n",
    "BATCH_SIZE is the number of samples we send to the model at a time."
   ]
  },
  {
   "cell_type": "code",
   "execution_count": null,
   "metadata": {
    "id": "I8CRVYkAeKpA"
   },
   "outputs": [],
   "source": [
    "BUFFER_SIZE = 10000\n",
    "BATCH_SIZE = 64"
   ]
  },
  {
   "cell_type": "markdown",
   "metadata": {
    "id": "HxU-tk8n5pjR"
   },
   "source": [
    "Now time to Prefetching overlaps the preprocessing and model execution with buffer of a training step.\n",
    "Then also excecute the test model with prefetching model overlap preprocessing."
   ]
  },
  {
   "cell_type": "code",
   "execution_count": null,
   "metadata": {
    "id": "a1TGghlleM0R"
   },
   "outputs": [],
   "source": [
    "train_movie_dataset = train_movie_dataset.shuffle(BUFFER_SIZE).batch(BATCH_SIZE).prefetch(tf.data.AUTOTUNE)\n",
    "test_movie_dataset = test_movie_dataset.batch(BATCH_SIZE).prefetch(tf.data.AUTOTUNE)"
   ]
  },
  {
   "cell_type": "markdown",
   "metadata": {
    "id": "OTrrH2zA7YWE"
   },
   "source": [
    "Let's time to observe 3 movie review based on positive and negative labels. "
   ]
  },
  {
   "cell_type": "code",
   "execution_count": null,
   "metadata": {
    "colab": {
     "base_uri": "https://localhost:8080/"
    },
    "id": "gtYrhdnhePIw",
    "outputId": "2c41ca24-cf17-4eb6-dec3-52cd262f4a2b"
   },
   "outputs": [
    {
     "name": "stdout",
     "output_type": "stream",
     "text": [
      "texts:  [b\"here, let me wave my hands over the keyboard, i'll tell you what salad she's going to order. over and over, works like a charm: he's such a genius, omg how does he do it? my bullshit detector freaks if i even pass this show when i'm scanning channels, I have to be very careful (these days it's useful far too often, so I don't need it getting broken on idiotic crap like this...careful with that remote!). is this supposed to be some fascist propaganda to make people believe in some invisible realm of uberman control and mastery? or what? why does it exist??<br /><br />this is THE most inane show, completely unbelievable and contrived, and I cannot understand why it's still on the air. so may geeks give SO much better shows such a hard time (Sarah Connor Chronicles, True Blood), but give this nonsensical drivel a pass. shows like Firefly (if there were any like that) fall away after a season, but mindless stuff like this that makes zero logical sense just keeps marching on. yeccch.\"\n",
      " b'This kid is rather bad, but in no way do they make him the type that outsmarts adults and can foil experienced thieves at every turn. No, he is not so much a brat, as he is a kid with severe emotional problems. A nice couple looking to adopt get rather suckered into adopting him and while the husband is a bit more willing to give this kid a chance the mother is not. Through in a bizarre Michael Richards character and the always annoying Gilbert Gottfried and you have yourself a rather bad movie with a few laughs in it here and there. I actually prefer the sequel to this film as I like the fact they brought Amy Yasbeck back as a different more likable character as there are one to many characters in this film that are thoroughly unlikable as it is. Even the kid is rather annoying at first in this one, and they kind of chill him out in the sequel too. The plot is simple enough though as the prospective parents go to adopt this kid that they think is great by the way the orphanage is throwing a party as they depart, they soon realize they have themselves a little hellion. Add to that this little hellion getting into contact with a convict of some sort. Not sure about this character, at first I thought it was supposed to be his real father or something. Not all that good, but I will pick this ahead of that Culkin kid any day of the week.'\n",
      " b'okay, this movie f*ck in\\' rules. it is without question one of the most technically inept pieces of cinema ever made. absolutely terrible, but you GOTTA see it. rent this with your buddies and come up with a drinking game or just have fun, it\\'s hilarious. and the behind-the-scenes featurette proves it, you can do anything with paper plates and finger paint. awesome. okay, rent it just for this one scene: two characters are actually WALKING IN PLACE for about 3 minutes in a shot. the director (on the commentary) says \"yeah, the tracking was so smooth it looks like they\\'re...\". yeah, right man, they are totally walking in place. it\\'s so funny.']\n",
      "\n",
      "labels:  [0 0 0]\n"
     ]
    }
   ],
   "source": [
    "for example, label in train_movie_dataset.take(1):\n",
    "  print('texts: ', example.numpy()[:3])\n",
    "  print()\n",
    "  print('labels: ', label.numpy()[:3])"
   ]
  },
  {
   "cell_type": "markdown",
   "metadata": {
    "id": "PsG7alz27qDM"
   },
   "source": [
    "In the result we got 3 of them result as 0,0,0 which denoted that the negative review."
   ]
  },
  {
   "cell_type": "markdown",
   "metadata": {
    "id": "gGrmoL3xeVxG"
   },
   "source": [
    "### Create the text encoder\n",
    "The processing of each sequence is undertaken by the following steps:\n",
    "\n",
    "1. Standardize the sequence by removing punctuation and converting it to lowercase.\n",
    "\n",
    "2. Splitting a sentence into individual words\n",
    "\n",
    "3. Recombining words into tokens\n",
    "\n",
    "4. Associating a unique integer value to each token\n",
    "\n",
    "5. Converting each sentence using the index into a vector of integers"
   ]
  },
  {
   "cell_type": "code",
   "execution_count": null,
   "metadata": {
    "id": "XgGTdARZeXAM"
   },
   "outputs": [],
   "source": [
    "VOCAB_SIZE = 1000   #Here, we are \n",
    "encoder = tf.keras.layers.TextVectorization(\n",
    "    max_tokens=VOCAB_SIZE)\n",
    "encoder.adapt(train_movie_dataset.map(lambda text, label: text))"
   ]
  },
  {
   "cell_type": "markdown",
   "metadata": {
    "id": "6HwFhQLmBQwo"
   },
   "source": [
    "The .adapt method sets the layer's vocabulary. Here are the first 20 tokens. After the padding and unknown tokens they're sorted by frequency:"
   ]
  },
  {
   "cell_type": "code",
   "execution_count": null,
   "metadata": {
    "colab": {
     "base_uri": "https://localhost:8080/"
    },
    "id": "3G5-HQFGeZG7",
    "outputId": "e3763218-0b4a-488f-fde6-9f7751295f42"
   },
   "outputs": [
    {
     "data": {
      "text/plain": [
       "array(['', '[UNK]', 'the', 'and', 'a', 'of', 'to', 'is', 'in', 'it', 'i',\n",
       "       'this', 'that', 'br', 'was', 'as', 'for', 'with', 'movie', 'but'],\n",
       "      dtype='<U14')"
      ]
     },
     "execution_count": 43,
     "metadata": {},
     "output_type": "execute_result"
    }
   ],
   "source": [
    "vocab = np.array(encoder.get_vocabulary())\n",
    "vocab[:20]"
   ]
  },
  {
   "cell_type": "markdown",
   "metadata": {
    "id": "HGC-EZiqBbAK"
   },
   "source": [
    "Once the vocabulary is set, the layer can encode text into indices. The tensors of indices are 0-padded to the longest sequence in the batch"
   ]
  },
  {
   "cell_type": "code",
   "execution_count": null,
   "metadata": {
    "colab": {
     "base_uri": "https://localhost:8080/"
    },
    "id": "geg2wZMWectG",
    "outputId": "d9442972-01e3-4fd9-8b1d-145482faf304"
   },
   "outputs": [
    {
     "data": {
      "text/plain": [
       "array([[132, 372,  70, ...,   0,   0,   0],\n",
       "       [ 11, 548,   7, ...,   0,   0,   0],\n",
       "       [869,  11,  18, ...,   0,   0,   0]])"
      ]
     },
     "execution_count": 44,
     "metadata": {},
     "output_type": "execute_result"
    }
   ],
   "source": [
    "encoded_example = encoder(example)[:3].numpy()\n",
    "encoded_example"
   ]
  },
  {
   "cell_type": "code",
   "execution_count": null,
   "metadata": {
    "colab": {
     "base_uri": "https://localhost:8080/"
    },
    "id": "TObbjfjXegP6",
    "outputId": "143be48e-277f-488d-d33b-cf167543ebd8"
   },
   "outputs": [
    {
     "name": "stdout",
     "output_type": "stream",
     "text": [
      "Original:  b\"here, let me wave my hands over the keyboard, i'll tell you what salad she's going to order. over and over, works like a charm: he's such a genius, omg how does he do it? my bullshit detector freaks if i even pass this show when i'm scanning channels, I have to be very careful (these days it's useful far too often, so I don't need it getting broken on idiotic crap like this...careful with that remote!). is this supposed to be some fascist propaganda to make people believe in some invisible realm of uberman control and mastery? or what? why does it exist??<br /><br />this is THE most inane show, completely unbelievable and contrived, and I cannot understand why it's still on the air. so may geeks give SO much better shows such a hard time (Sarah Connor Chronicles, True Blood), but give this nonsensical drivel a pass. shows like Firefly (if there were any like that) fall away after a season, but mindless stuff like this that makes zero logical sense just keeps marching on. yeccch.\"\n",
      "Round-trip:  here let me [UNK] my hands over the [UNK] ill tell you what [UNK] shes going to order over and over works like a [UNK] hes such a [UNK] [UNK] how does he do it my [UNK] [UNK] [UNK] if i even [UNK] this show when im [UNK] [UNK] i have to be very [UNK] these days its [UNK] far too often so i dont need it getting [UNK] on [UNK] crap like [UNK] with that [UNK] is this supposed to be some [UNK] [UNK] to make people believe in some [UNK] [UNK] of [UNK] [UNK] and [UNK] or what why does it [UNK] br this is the most [UNK] show completely [UNK] and [UNK] and i cannot understand why its still on the air so may [UNK] give so much better shows such a hard time [UNK] [UNK] [UNK] true blood but give this [UNK] [UNK] a [UNK] shows like [UNK] if there were any like that fall away after a season but [UNK] stuff like this that makes [UNK] [UNK] sense just keeps [UNK] on [UNK]                                                                                                                                                                                                                                                                                                                                                                                                                                                                                                                                                                                                                                                                                                                                                                                                                                        \n",
      "\n",
      "Original:  b'This kid is rather bad, but in no way do they make him the type that outsmarts adults and can foil experienced thieves at every turn. No, he is not so much a brat, as he is a kid with severe emotional problems. A nice couple looking to adopt get rather suckered into adopting him and while the husband is a bit more willing to give this kid a chance the mother is not. Through in a bizarre Michael Richards character and the always annoying Gilbert Gottfried and you have yourself a rather bad movie with a few laughs in it here and there. I actually prefer the sequel to this film as I like the fact they brought Amy Yasbeck back as a different more likable character as there are one to many characters in this film that are thoroughly unlikable as it is. Even the kid is rather annoying at first in this one, and they kind of chill him out in the sequel too. The plot is simple enough though as the prospective parents go to adopt this kid that they think is great by the way the orphanage is throwing a party as they depart, they soon realize they have themselves a little hellion. Add to that this little hellion getting into contact with a convict of some sort. Not sure about this character, at first I thought it was supposed to be his real father or something. Not all that good, but I will pick this ahead of that Culkin kid any day of the week.'\n",
      "Round-trip:  this kid is rather bad but in no way do they make him the type that [UNK] [UNK] and can [UNK] [UNK] [UNK] at every turn no he is not so much a [UNK] as he is a kid with [UNK] emotional problems a nice couple looking to [UNK] get rather [UNK] into [UNK] him and while the husband is a bit more [UNK] to give this kid a chance the mother is not through in a [UNK] michael [UNK] character and the always annoying [UNK] [UNK] and you have yourself a rather bad movie with a few laughs in it here and there i actually [UNK] the sequel to this film as i like the fact they brought [UNK] [UNK] back as a different more [UNK] character as there are one to many characters in this film that are [UNK] [UNK] as it is even the kid is rather annoying at first in this one and they kind of [UNK] him out in the sequel too the plot is simple enough though as the [UNK] parents go to [UNK] this kid that they think is great by the way the [UNK] is [UNK] a [UNK] as they [UNK] they soon realize they have themselves a little [UNK] add to that this little [UNK] getting into [UNK] with a [UNK] of some sort not sure about this character at first i thought it was supposed to be his real father or something not all that good but i will [UNK] this [UNK] of that [UNK] kid any day of the [UNK]                                                                                                                                                                                                                                                                                                                                                                                                                                                                                                                                                                                                                                                                                                                                                     \n",
      "\n",
      "Original:  b'okay, this movie f*ck in\\' rules. it is without question one of the most technically inept pieces of cinema ever made. absolutely terrible, but you GOTTA see it. rent this with your buddies and come up with a drinking game or just have fun, it\\'s hilarious. and the behind-the-scenes featurette proves it, you can do anything with paper plates and finger paint. awesome. okay, rent it just for this one scene: two characters are actually WALKING IN PLACE for about 3 minutes in a shot. the director (on the commentary) says \"yeah, the tracking was so smooth it looks like they\\'re...\". yeah, right man, they are totally walking in place. it\\'s so funny.'\n",
      "Round-trip:  okay this movie [UNK] in [UNK] it is without question one of the most [UNK] [UNK] [UNK] of cinema ever made absolutely terrible but you [UNK] see it rent this with your [UNK] and come up with a [UNK] game or just have fun its hilarious and the [UNK] [UNK] [UNK] it you can do anything with [UNK] [UNK] and [UNK] [UNK] [UNK] okay rent it just for this one scene two characters are actually [UNK] in place for about 3 minutes in a shot the director on the [UNK] says [UNK] the [UNK] was so [UNK] it looks like theyre [UNK] right man they are totally [UNK] in place its so funny                                                                                                                                                                                                                                                                                                                                                                                                                                                                                                                                                                                                                                                                                                                                                                                                                                                                                                         \n",
      "\n"
     ]
    }
   ],
   "source": [
    "for n in range(3):\n",
    "  print(\"Original: \", example[n].numpy())\n",
    "  print(\"Round-trip: \", \" \".join(vocab[encoded_example[n]]))\n",
    "  print()"
   ]
  },
  {
   "cell_type": "markdown",
   "metadata": {
    "id": "gIKek1IU9abH"
   },
   "source": [
    "As you can see from the above result, we got some \"unknown\" tokens as [UNK] which we can see in round-trip section."
   ]
  },
  {
   "cell_type": "markdown",
   "metadata": {
    "id": "9vEqIm2RewXt"
   },
   "source": [
    "### Create the model"
   ]
  },
  {
   "cell_type": "markdown",
   "metadata": {
    "id": "upxTjEBpzk4J"
   },
   "source": [
    "![bidirectional.png](data:image/png;base64,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)"
   ]
  },
  {
   "cell_type": "markdown",
   "metadata": {
    "id": "qHCt2aj8C2r3"
   },
   "source": [
    "• Let's take a reference from the above diagram to build a model.\n",
    "\n",
    "• We will build a model with the help of tf.keras.Sequential.\n",
    "\n",
    "• Here the first layer is the encoder, which converts the text to a sequence of token indices.\n",
    "\n",
    "• After the encoder 2nd layer is an embedding layer that stores one vector per word. When called, it converts the sequences of word indices to sequences of vectors. These vectors are trainable. After training words with similar meanings often have similar vectors.\n",
    "\n",
    "• RNN processes sequence input by iterating through the elements. RNNs pass the outputs from one timestep to their input on the next timestep.\n",
    "\n",
    "• A bidirectional wrapper can also be used with an RNN layer. This layer propagates the input forward and backward through the RNN layer and then concatenates the final output.\n",
    "\n",
    "• The main advantage of a bidirectional RNN is that the signal from the beginning of the input doesn't need to be processed through every timestep to affect the output.\n",
    "\n",
    "• After the RNN has converted the sequence to a single vector the two layers are. Dense does some final processing and converts from this vector representation to a single logit as the classification output.\n",
    "\n"
   ]
  },
  {
   "cell_type": "markdown",
   "metadata": {
    "id": "7YuODOI3HXfH"
   },
   "source": [
    "## Now time to build the model by considering above steps"
   ]
  },
  {
   "cell_type": "code",
   "execution_count": null,
   "metadata": {
    "id": "QxV8FmjCexOj"
   },
   "outputs": [],
   "source": [
    "model = tf.keras.Sequential([\n",
    "    encoder,\n",
    "    tf.keras.layers.Embedding(\n",
    "        input_dim=len(encoder.get_vocabulary()),\n",
    "        output_dim=64,\n",
    "        # Use masking to handle the variable sequence lengths\n",
    "        mask_zero=True),\n",
    "    tf.keras.layers.Bidirectional(tf.keras.layers.LSTM(64)),\n",
    "    tf.keras.layers.Dense(64, activation='relu'),\n",
    "    tf.keras.layers.Dense(1)\n",
    "])"
   ]
  },
  {
   "cell_type": "markdown",
   "metadata": {
    "id": "hDs-loJVHnBt"
   },
   "source": [
    "Now that the length of every sample is the same, the model has to be alerted that some of the data is padding  (where padding is a unique type of masking that places the masked steps at the beginning or conclusion of a sequence)and should be disregarded. This system uses masking.\n",
    "\n"
   ]
  },
  {
   "cell_type": "code",
   "execution_count": null,
   "metadata": {
    "colab": {
     "base_uri": "https://localhost:8080/"
    },
    "id": "HEqr7doUe0GJ",
    "outputId": "21b446b1-5ad2-4335-c46c-07148a1fe566"
   },
   "outputs": [
    {
     "name": "stdout",
     "output_type": "stream",
     "text": [
      "[False, True, True, True, True]\n"
     ]
    }
   ],
   "source": [
    "print([layer.supports_masking for layer in model.layers])"
   ]
  },
  {
   "cell_type": "code",
   "execution_count": null,
   "metadata": {
    "colab": {
     "base_uri": "https://localhost:8080/"
    },
    "id": "yN_D2KVpe3SR",
    "outputId": "8e9bcb0e-7a43-4abd-8b0d-3a7e9e8fa9ca"
   },
   "outputs": [
    {
     "name": "stdout",
     "output_type": "stream",
     "text": [
      "1/1 [==============================] - 4s 4s/step\n",
      "[0.00115585]\n"
     ]
    }
   ],
   "source": [
    "# predict on a sample text without padding with the help of predict function\n",
    "\n",
    "sample_text = ('The movie was cool. The animation and the graphics '\n",
    "               'were out of this world. I would recommend this movie.')\n",
    "predictions = model.predict(np.array([sample_text]))\n",
    "print(predictions[0])"
   ]
  },
  {
   "cell_type": "code",
   "execution_count": null,
   "metadata": {
    "colab": {
     "base_uri": "https://localhost:8080/"
    },
    "id": "5cGSnPrie5bk",
    "outputId": "372fe0b3-f378-451d-fafe-c5c4db2bca5a"
   },
   "outputs": [
    {
     "name": "stdout",
     "output_type": "stream",
     "text": [
      "1/1 [==============================] - 0s 463ms/step\n",
      "[0.00115585]\n"
     ]
    }
   ],
   "source": [
    "# predict on a sample text with 2000 padding with the help of predict function \n",
    "\n",
    "padding = \"the \" * 2000\n",
    "predictions = model.predict(np.array([sample_text, padding]))\n",
    "print(predictions[0])"
   ]
  },
  {
   "cell_type": "markdown",
   "metadata": {
    "id": "KsQx1Ra5KNCy"
   },
   "source": [
    "In this model we got same results for both type of situation with and without padding. "
   ]
  },
  {
   "cell_type": "markdown",
   "metadata": {
    "id": "RYW81yIdQQ2H"
   },
   "source": [
    "The purpose of loss functions is to compute the quantity that a model should seek to minimize during training.\n",
    "\n",
    "BinaryCrossentropy computes the cross-entropy loss between true labels and predicted labels.\n",
    "\n",
    "Use this cross-entropy loss for binary (0 or 1) classification applications. "
   ]
  },
  {
   "cell_type": "markdown",
   "metadata": {
    "id": "bRpAYrcB-uGQ"
   },
   "source": [
    "With the help of compile method, we will compile our model."
   ]
  },
  {
   "cell_type": "code",
   "execution_count": null,
   "metadata": {
    "id": "wwdaD5zZe-49"
   },
   "outputs": [],
   "source": [
    "model.compile(loss=tf.keras.losses.BinaryCrossentropy(from_logits=True),\n",
    "              optimizer=tf.keras.optimizers.Adam(1e-4),\n",
    "              metrics=['accuracy'])"
   ]
  },
  {
   "cell_type": "markdown",
   "metadata": {
    "id": "SbsK3SROfEAR"
   },
   "source": [
    "### Train the model"
   ]
  },
  {
   "cell_type": "code",
   "execution_count": null,
   "metadata": {
    "colab": {
     "base_uri": "https://localhost:8080/"
    },
    "id": "7P40p37WfEs0",
    "outputId": "0aee3c6d-b371-481b-bdbe-9f9607efef92"
   },
   "outputs": [
    {
     "name": "stdout",
     "output_type": "stream",
     "text": [
      "Epoch 1/10\n",
      "391/391 [==============================] - 814s 2s/step - loss: 0.6430 - accuracy: 0.5669 - val_loss: 0.5013 - val_accuracy: 0.7474\n",
      "Epoch 2/10\n",
      "391/391 [==============================] - 832s 2s/step - loss: 0.4524 - accuracy: 0.7874 - val_loss: 0.4151 - val_accuracy: 0.8089\n",
      "Epoch 3/10\n",
      "391/391 [==============================] - 790s 2s/step - loss: 0.3680 - accuracy: 0.8397 - val_loss: 0.3612 - val_accuracy: 0.8448\n",
      "Epoch 4/10\n",
      "391/391 [==============================] - 791s 2s/step - loss: 0.3350 - accuracy: 0.8568 - val_loss: 0.3370 - val_accuracy: 0.8516\n",
      "Epoch 5/10\n",
      "391/391 [==============================] - 791s 2s/step - loss: 0.3221 - accuracy: 0.8600 - val_loss: 0.3286 - val_accuracy: 0.8604\n",
      "Epoch 6/10\n",
      "391/391 [==============================] - 823s 2s/step - loss: 0.3114 - accuracy: 0.8674 - val_loss: 0.3245 - val_accuracy: 0.8578\n",
      "Epoch 7/10\n",
      "391/391 [==============================] - 799s 2s/step - loss: 0.3040 - accuracy: 0.8705 - val_loss: 0.3591 - val_accuracy: 0.8552\n",
      "Epoch 8/10\n",
      "391/391 [==============================] - 773s 2s/step - loss: 0.3035 - accuracy: 0.8699 - val_loss: 0.3211 - val_accuracy: 0.8594\n",
      "Epoch 9/10\n",
      "391/391 [==============================] - 781s 2s/step - loss: 0.2989 - accuracy: 0.8726 - val_loss: 0.3311 - val_accuracy: 0.8552\n",
      "Epoch 10/10\n",
      "391/391 [==============================] - 775s 2s/step - loss: 0.2974 - accuracy: 0.8730 - val_loss: 0.3243 - val_accuracy: 0.8630\n"
     ]
    }
   ],
   "source": [
    "history = model.fit(train_movie_dataset, epochs=10,\n",
    "                    validation_data=test_movie_dataset,\n",
    "                    validation_steps=30)"
   ]
  },
  {
   "cell_type": "code",
   "execution_count": null,
   "metadata": {
    "colab": {
     "base_uri": "https://localhost:8080/"
    },
    "id": "quIMPZwyfGlo",
    "outputId": "34812fc1-f971-40bc-826c-4a89912f04d0"
   },
   "outputs": [
    {
     "name": "stdout",
     "output_type": "stream",
     "text": [
      "391/391 [==============================] - 189s 482ms/step - loss: 0.3194 - accuracy: 0.8641\n",
      "Test Loss: 0.3194221556186676\n",
      "Test Accuracy: 0.8641200065612793\n"
     ]
    }
   ],
   "source": [
    "test_loss, test_acc = model.evaluate(test_movie_dataset)\n",
    "\n",
    "print('Test Loss:', test_loss)\n",
    "print('Test Accuracy:', test_acc)"
   ]
  },
  {
   "cell_type": "markdown",
   "metadata": {
    "id": "o72QWdFgNeOD"
   },
   "source": [
    "So, at last we got accuracy of **86.41%** which indicates the model is performing good with loss is **31%**"
   ]
  },
  {
   "cell_type": "markdown",
   "metadata": {
    "id": "00QCN9gLN7v9"
   },
   "source": [
    "Now time to visualize the accuracy and loss we got from our model with the help of line graph by using matplotlib library."
   ]
  },
  {
   "cell_type": "code",
   "execution_count": null,
   "metadata": {
    "id": "jUpXCQOI0kV5"
   },
   "outputs": [],
   "source": [
    "import matplotlib.pyplot as plt\n",
    "\n",
    "\n",
    "def plot_graphs(history, metric):\n",
    "  plt.plot(history.history[metric])\n",
    "  plt.plot(history.history['val_'+metric], '')\n",
    "  plt.xlabel(\"Epochs\")\n",
    "  plt.ylabel(metric)\n",
    "  plt.legend([metric, 'val_'+metric])"
   ]
  },
  {
   "cell_type": "code",
   "execution_count": null,
   "metadata": {
    "colab": {
     "base_uri": "https://localhost:8080/",
     "height": 515
    },
    "id": "iPh61G3S0JIo",
    "outputId": "2ed18e19-a025-4e5a-ca5f-a78b85e61af7"
   },
   "outputs": [
    {
     "data": {
      "text/plain": [
       "(0.0, 0.6603117644786834)"
      ]
     },
     "execution_count": 54,
     "metadata": {},
     "output_type": "execute_result"
    },
    {
     "data": {
      "image/png": "[encoded data removed]",
      "text/plain": [
       "<Figure size 1152x576 with 2 Axes>"
      ]
     },
     "metadata": {
      "needs_background": "light"
     },
     "output_type": "display_data"
    }
   ],
   "source": [
    "plt.figure(figsize=(16, 8))\n",
    "plt.subplot(1, 2, 1)\n",
    "plot_graphs(history, 'accuracy')\n",
    "plt.ylim(None, 1)\n",
    "plt.subplot(1, 2, 2)\n",
    "plot_graphs(history, 'loss')\n",
    "plt.ylim(0, None)"
   ]
  },
  {
   "cell_type": "markdown",
   "metadata": {
    "id": "hw-mzBlXON3T"
   },
   "source": [
    "**Conclusion**\n",
    "\n",
    "• Our model got an accuracy of 86%.\n",
    "\n",
    "• Here, in RNN, we can tune the parameters and increase the epochs in order to improve the accuracy and reduce the loss. \n",
    "\n",
    "• But, on the other hand each epoch took 15-16 mins to run.\n",
    "\n",
    "• Therefore, when we increase the epochs it also takes more time to run the model.\n"
   ]
  },
  {
   "cell_type": "markdown",
   "metadata": {
    "id": "gusFpLBpWoiZ"
   },
   "source": [
    "**References**:\n",
    "\n",
    "1.   https://www.tensorflow.org/text/tutorials/text_classification_rnn\n",
    "2.   https://www.tensorflow.org/\n",
    "\n",
    "\n",
    "\n"
   ]
  }
 ],
 "metadata": {
  "colab": {
   "collapsed_sections": [],
   "provenance": []
  },
  "kernelspec": {
   "display_name": "Python 3",
   "language": "python",
   "name": "python3"
  },
  "language_info": {
   "codemirror_mode": {
    "name": "ipython",
    "version": 3
   },
   "file_extension": ".py",
   "mimetype": "text/x-python",
   "name": "python",
   "nbconvert_exporter": "python",
   "pygments_lexer": "ipython3",
   "version": "3.8.8"
  }
 },
 "nbformat": 4,
 "nbformat_minor": 1
}
